{
  "nbformat": 4,
  "nbformat_minor": 0,
  "metadata": {
    "colab": {
      "provenance": []
    },
    "kernelspec": {
      "name": "python3",
      "display_name": "Python 3"
    },
    "language_info": {
      "name": "python"
    }
  },
  "cells": [
    {
      "cell_type": "markdown",
      "source": [
        "## Q1. Which two operator overloading methods can you use in your classes to support iteration?\n",
        "\n",
        "Answer:- Python does not limit operator overloading to arithmetic operators only. We can overload comparison operators as well.\n",
        "\n"
      ],
      "metadata": {
        "id": "jgog6UbXjll7"
      }
    },
    {
      "cell_type": "code",
      "source": [],
      "metadata": {
        "id": "DD_A0omEkYe8"
      },
      "execution_count": null,
      "outputs": []
    },
    {
      "cell_type": "markdown",
      "source": [
        "## Q2. In what contexts do the two operator overloading methods manage printing?\n",
        "\n",
        "Answer:-  the + operator will perform arithmetic addition on two numbers, merge two lists, or concatenate two strings. This feature in Python that allows the same operator to have different meaning according to the context is called operator overloading."
      ],
      "metadata": {
        "id": "EU6QZmUJkZBc"
      }
    },
    {
      "cell_type": "code",
      "source": [],
      "metadata": {
        "id": "HxKg_gMOkylD"
      },
      "execution_count": null,
      "outputs": []
    },
    {
      "cell_type": "markdown",
      "source": [
        "## Q3. In a class, how do you intercept slice operations?\n",
        "\n",
        "Answer:- he slice operator [n:m] returns the part of the string starting with the character at index n and go up to but not including the character at index m. Or with normal counting from 1, this is the (n+1)st character up to and including the mth character."
      ],
      "metadata": {
        "id": "UJ0FSKt6kzHC"
      }
    },
    {
      "cell_type": "code",
      "source": [],
      "metadata": {
        "id": "VpB9bKHtk7zL"
      },
      "execution_count": null,
      "outputs": []
    },
    {
      "cell_type": "markdown",
      "source": [
        "## Q4. In a class, how do you capture in-place addition?\n",
        "\n",
        "Answer:- Python provides the operator x += y to add two objects in-place by calculating the sum x + y and assigning the result to the first operands variable name x . You can set up the in-place addition behavior for your own class by overriding the magic “dunder” method __iadd__(self, other) in your class definition."
      ],
      "metadata": {
        "id": "bMDIreD-k8cL"
      }
    },
    {
      "cell_type": "code",
      "source": [],
      "metadata": {
        "id": "ZyW5-ugZlEUr"
      },
      "execution_count": null,
      "outputs": []
    },
    {
      "cell_type": "markdown",
      "source": [
        "## Q5. When is it appropriate to use operator overloading?\n",
        "\n",
        "Answer:- Operator overloading is mostly useful when you're making a new class that falls into an existing \"Abstract Base Class\" (ABC) -- indeed, many of the ABCs in standard library module collections rely on the presence of certain special methods (and special methods, one with names starting and ending with double underscores"
      ],
      "metadata": {
        "id": "TaJc8B2KlFsE"
      }
    },
    {
      "cell_type": "code",
      "source": [],
      "metadata": {
        "id": "parNZgIJlONL"
      },
      "execution_count": null,
      "outputs": []
    }
  ]
}